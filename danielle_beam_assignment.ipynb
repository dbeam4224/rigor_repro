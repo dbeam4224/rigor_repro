{
  "nbformat": 4,
  "nbformat_minor": 0,
  "metadata": {
    "colab": {
      "provenance": [],
      "authorship_tag": "ABX9TyNKCHatNPvdkSCdrxRh2RtU",
      "include_colab_link": true
    },
    "kernelspec": {
      "name": "python3",
      "display_name": "Python 3"
    },
    "language_info": {
      "name": "python"
    }
  },
  "cells": [
    {
      "cell_type": "markdown",
      "metadata": {
        "id": "view-in-github",
        "colab_type": "text"
      },
      "source": [
        "<a href=\"https://colab.research.google.com/github/dbeam4224/rigor_repro/blob/main/danielle_beam_assignment.ipynb\" target=\"_parent\"><img src=\"https://colab.research.google.com/assets/colab-badge.svg\" alt=\"Open In Colab\"/></a>"
      ]
    },
    {
      "cell_type": "code",
      "source": [
        "# prompt: calculate 6*7 and display answer\n",
        "\n",
        "import datetime\n",
        "\n",
        "\n",
        "today = datetime.date.today()\n",
        "today\n",
        "print(today)\n",
        "print(6 * 7)"
      ],
      "metadata": {
        "colab": {
          "base_uri": "https://localhost:8080/"
        },
        "id": "yqzpUp6zdM5M",
        "outputId": "b02b020f-d6cc-4696-9632-c0a1b1f2a319"
      },
      "execution_count": 2,
      "outputs": [
        {
          "output_type": "stream",
          "name": "stdout",
          "text": [
            "2024-10-30\n",
            "42\n"
          ]
        }
      ]
    },
    {
      "cell_type": "markdown",
      "source": [
        "Things like github are very helpful in ensuring computational reproducibility. It one allows all individuals involved in a project to see updates and make sure they are using the most up to date code. It also allows people to read a paper, and then go test the code on either data made available from the authors or from their own dataset to ensure that results are reproducible"
      ],
      "metadata": {
        "id": "ZCYA8XNOdlGh"
      }
    }
  ]
}